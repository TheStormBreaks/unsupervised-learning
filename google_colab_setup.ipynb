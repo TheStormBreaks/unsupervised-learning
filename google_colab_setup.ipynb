{
 "cells": [
  {
   "cell_type": "markdown",
   "id": "d929f08b",
   "metadata": {},
   "source": [
    "# Author's Notes\n",
    "\n",
    "For those that would like to use Google Colab (instead of working on your local machine), please follow the instructions in this notebook to set up your environment.\n",
    "\n",
    "Once you finish this setup, you will see a folder called \"github\" in your Google Drive. This \"github\" folder has the \"handson-unsupervised-learning\" repo ready for you to use in Colab.\n",
    "\n",
    "You can access these notebooks quickly using the **Access Notebooks** link at the end of this notebook."
   ]
  },
  {
   "cell_type": "markdown",
   "id": "4284453e",
   "metadata": {},
   "source": [
    "# Set up Google Colab"
   ]
  },
  {
   "cell_type": "code",
   "execution_count": 2,
   "id": "afe2c8a2",
   "metadata": {},
   "outputs": [],
   "source": [
    "# Define functions to connect to Google and change directories\n",
    "def connectDrive():\n",
    "    from google.colab import drive\n",
    "    drive.mount('/content/drive', force_remount=True)\n",
    "\n",
    "def changeDirectory(path):\n",
    "    import os\n",
    "    original_path = os.getcwd()\n",
    "    os.chdir(path)\n",
    "    new_path = os.getcwd()\n",
    "    print(\"Original path: \",original_path)\n",
    "    print(\"New path: \",new_path)"
   ]
  },
  {
   "cell_type": "code",
   "execution_count": null,
   "id": "89389226",
   "metadata": {},
   "outputs": [],
   "source": [
    "# Connect to Google Drive\n",
    "connectDrive()\n",
    "\n",
    "# Change path\n",
    "import os\n",
    "if os.path.isfile(\"/content/drive/My Drive/github\"):\n",
    "    pass\n",
    "else:\n",
    "    !mkdir \"/content/drive/My Drive/github\"\n",
    "\n",
    "changeDirectory(\"/content/drive/My Drive/github\")"
   ]
  },
  {
   "cell_type": "code",
   "execution_count": null,
   "id": "0c085781",
   "metadata": {},
   "outputs": [],
   "source": [
    "# Clone Git repo\n",
    "!git clone https://github.com/aapatel09/handson-unsupervised-learning.git"
   ]
  },
  {
   "cell_type": "code",
   "execution_count": null,
   "id": "6b5407e4",
   "metadata": {},
   "outputs": [],
   "source": [
    "# Access repo\n",
    "%cd handson-unsupervised-learning"
   ]
  },
  {
   "cell_type": "code",
   "execution_count": null,
   "id": "834d721c",
   "metadata": {},
   "outputs": [],
   "source": [
    "# Install libraries\n",
    "!pip install awscli==1.19.28"
   ]
  },
  {
   "cell_type": "code",
   "execution_count": null,
   "id": "47dca694",
   "metadata": {},
   "outputs": [],
   "source": [
    "# Download data from AWS S3\n",
    "!aws s3 cp s3://handson-unsupervised-learning/datasets/ datasets --recursive --no-sign-request"
   ]
  },
  {
   "cell_type": "markdown",
   "id": "7989a4dc",
   "metadata": {},
   "source": [
    "# [Access Notebooks](https://colab.research.google.com/github/aapatel09/handson-unsupervised-learning/blob/master/)"
   ]
  }
 ],
 "metadata": {
  "kernelspec": {
   "display_name": "Python [conda env:unsupervisedLearning] *",
   "language": "python",
   "name": "conda-env-unsupervisedLearning-py"
  },
  "language_info": {
   "codemirror_mode": {
    "name": "ipython",
    "version": 3
   },
   "file_extension": ".py",
   "mimetype": "text/x-python",
   "name": "python",
   "nbconvert_exporter": "python",
   "pygments_lexer": "ipython3",
   "version": "3.8.8"
  }
 },
 "nbformat": 4,
 "nbformat_minor": 5
}
